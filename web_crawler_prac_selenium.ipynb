{
 "cells": [
  {
   "cell_type": "markdown",
   "metadata": {},
   "source": [
    "# Các thư viện cần thiết"
   ]
  },
  {
   "cell_type": "code",
   "execution_count": 1,
   "metadata": {},
   "outputs": [],
   "source": [
    "import numpy as np\n",
    "import pandas as pd\n",
    "\n",
    "from selenium import webdriver\n",
    "from selenium.webdriver.common.by import By\n",
    "from selenium.common.exceptions import NoSuchElementException, ElementNotInteractableException\n",
    "from time import sleep"
   ]
  },
  {
   "cell_type": "code",
   "execution_count": 2,
   "metadata": {},
   "outputs": [],
   "source": [
    "# khai báo driver\n",
    "driver = webdriver.Chrome()"
   ]
  },
  {
   "cell_type": "code",
   "execution_count": 3,
   "metadata": {},
   "outputs": [],
   "source": [
    "# mở URL\n",
    "driver.get(\"https://www.lazada.vn/dien-thoai-di-dong/?spm=a2o4n.home-vn.6598063730.37.19053bdcNwANax&up_id=2301126560&clickTrackInfo=491be505-9e8e-45ac-bbf5-f57141188de1__4518__2301126560__20__0.0989122__341738__7253__c2i__0.0__53%2525%2Boff&from=hp_categories&item_id=2301126560&version=v2&q=Mobiles&params=%7B%22catIdLv1%22%3A%224402%22%2C%22pvid%22%3A%22491be505-9e8e-45ac-bbf5-f57141188de1%22%2C%22src%22%3A%22ald%22%2C%22categoryName%22%3A%22Mobiles%22%2C%22categoryId%22%3A%224518%22%7D&src=hp_categories\")\n",
    "driver.implicitly_wait(10)"
   ]
  },
  {
   "cell_type": "code",
   "execution_count": 4,
   "metadata": {},
   "outputs": [],
   "source": [
    "elements_title = driver.find_elements(By.CSS_SELECTOR, \".RfADt [href]\")\n",
    "lst_Title = [element_title.text for element_title in elements_title]\n",
    "lst_Link = [element_title.get_attribute('href') for element_title in elements_title]"
   ]
  },
  {
   "cell_type": "code",
   "execution_count": 5,
   "metadata": {},
   "outputs": [],
   "source": [
    "elements_discPrice = driver.find_elements(By.CSS_SELECTOR, \".aBrP0\")\n",
    "lst_DiscPrice = [element_discPrice.text for element_discPrice in elements_discPrice]"
   ]
  },
  {
   "cell_type": "code",
   "execution_count": 6,
   "metadata": {},
   "outputs": [],
   "source": [
    "elements_valDiscount = driver.find_elements(By.CSS_SELECTOR, \".IcOsH\")\n",
    "lst_ValDiscount = [element_valDiscount.text for element_valDiscount in elements_valDiscount]"
   ]
  },
  {
   "cell_type": "code",
   "execution_count": 7,
   "metadata": {},
   "outputs": [],
   "source": [
    "lst_ValDiscount = [valDiscount.replace(' Off', '') for valDiscount in lst_ValDiscount]"
   ]
  },
  {
   "cell_type": "code",
   "execution_count": 8,
   "metadata": {},
   "outputs": [],
   "source": [
    "elements_sold_countReview_sellAt = driver.find_elements(By.CSS_SELECTOR, \"._6uN7R\")\n",
    "lst_Sold_countReview_sellAt = [element_sold_countReview_sellAt.text for element_sold_countReview_sellAt in elements_sold_countReview_sellAt]"
   ]
  },
  {
   "cell_type": "code",
   "execution_count": 9,
   "metadata": {},
   "outputs": [],
   "source": [
    "def handle_arr_sold_countReview_sellAt(data_arr):\n",
    "    sold = []\n",
    "    countReview = []\n",
    "    sellAt = []\n",
    "\n",
    "    for data in data_arr:\n",
    "        parts = data.split()\n",
    "        soldCount = None\n",
    "        reviewCount = None\n",
    "        location = None\n",
    "\n",
    "        if \"Đã bán\" in parts:\n",
    "            try:\n",
    "                soldCount = int(parts[0])\n",
    "            except ValueError:\n",
    "                soldCount = None\n",
    "            \n",
    "            try:\n",
    "                reviewIndex = parts.index(\"Đã bán\") + 1\n",
    "                reviewCount = int(parts[reviewIndex].strip(\"()\"))\n",
    "            except (ValueError, IndexError):\n",
    "                reviewCount = None\n",
    "\n",
    "            location = parts[reviewIndex + 1:]\n",
    "        else:\n",
    "            location = data\n",
    "        \n",
    "        sold.append(soldCount)\n",
    "        countReview.append(reviewCount)\n",
    "        sellAt.append(location)\n",
    "\n",
    "    return sold, countReview, sellAt\n"
   ]
  },
  {
   "cell_type": "code",
   "execution_count": 10,
   "metadata": {},
   "outputs": [],
   "source": [
    "lst_Sold, lst_CountReview, lst_SellAt = handle_arr_sold_countReview_sellAt(lst_Sold_countReview_sellAt)"
   ]
  },
  {
   "cell_type": "code",
   "execution_count": 13,
   "metadata": {},
   "outputs": [],
   "source": [
    "df = pd.DataFrame(list(zip(lst_Title, lst_DiscPrice, lst_ValDiscount, lst_Sold, lst_CountReview, lst_SellAt, lst_Link)), \n",
    "                  columns = ['title', 'discount_Price', 'value_Discount', 'sold', 'count_Review', 'sell_At', 'link_Item'])\n",
    "\n",
    "df['index_'] = np.arange(1, len(df) + 1)\n",
    "df = df[['index_', 'title', 'discount_Price', 'value_Discount', 'sold', 'count_Review', 'sell_At', 'link_Item']]"
   ]
  },
  {
   "cell_type": "code",
   "execution_count": 14,
   "metadata": {},
   "outputs": [],
   "source": [
    "df.to_csv('data_crawl_selenium_list.csv', index = False)"
   ]
  },
  {
   "cell_type": "code",
   "execution_count": null,
   "metadata": {},
   "outputs": [],
   "source": []
  }
 ],
 "metadata": {
  "kernelspec": {
   "display_name": "Python 3",
   "language": "python",
   "name": "python3"
  },
  "language_info": {
   "codemirror_mode": {
    "name": "ipython",
    "version": 3
   },
   "file_extension": ".py",
   "mimetype": "text/x-python",
   "name": "python",
   "nbconvert_exporter": "python",
   "pygments_lexer": "ipython3",
   "version": "3.11.9"
  }
 },
 "nbformat": 4,
 "nbformat_minor": 2
}
